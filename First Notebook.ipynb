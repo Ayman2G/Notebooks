{
    "cells": [
        {
            "cell_type": "markdown",
            "metadata": {
                "collapsed": true
            },
            "source": "# My Jupyter Notebook on IBM Watson Studio"
        },
        {
            "cell_type": "markdown",
            "metadata": {},
            "source": "**Ayman Moumen**\n"
        },
        {
            "cell_type": "markdown",
            "metadata": {},
            "source": "Data Science student"
        },
        {
            "cell_type": "markdown",
            "metadata": {},
            "source": "_I am interested in data science because it will help me in my Machine Learning and AI journey_"
        },
        {
            "cell_type": "markdown",
            "metadata": {},
            "source": " ### We will now create a function that returns the min and max of a list"
        },
        {
            "cell_type": "code",
            "execution_count": 25,
            "metadata": {},
            "outputs": [],
            "source": "def agg(L):\n    max = L.max()\n    min = L.min()\n    print(f\"The minimum of the list is {min}, and the maximum is {max}\")"
        },
        {
            "cell_type": "code",
            "execution_count": 27,
            "metadata": {},
            "outputs": [
                {
                    "name": "stdout",
                    "output_type": "stream",
                    "text": "[70 78 66 93 16 74 23 92 84 65]\nThe minimum of the list is 16, and the maximum is 93\n"
                }
            ],
            "source": "from numpy import random\nL=random.randint(100, size=(10))\nprint(L)\nagg(L)"
        },
        {
            "cell_type": "markdown",
            "metadata": {},
            "source": "* One\n* Two\n* Three"
        },
        {
            "cell_type": "markdown",
            "metadata": {},
            "source": "[My github link](https://github.com/Ayman2G/Notebooks)"
        },
        {
            "cell_type": "markdown",
            "metadata": {},
            "source": "The winter has sparkling and frozen elements!\n This line contains only 1 space character.\n}"
        },
        {
            "cell_type": "markdown",
            "metadata": {},
            "source": "> This concludes for this notebook\n\nThis is the code we defined before as markdown\n\n```py\ndef agg(L):\n    max = L.max()\n    min = L.min()\n    print(f\"The minimum of the list is {min}, and the maximum is {max}\")\n```"
        },
        {
            "cell_type": "code",
            "execution_count": null,
            "metadata": {},
            "outputs": [],
            "source": "Many snowflakes are falling down.The winter has sparkling and frozen elements!"
        }
    ],
    "metadata": {
        "kernelspec": {
            "display_name": "Python 3.10",
            "language": "python",
            "name": "python3"
        },
        "language_info": {
            "codemirror_mode": {
                "name": "ipython",
                "version": 3
            },
            "file_extension": ".py",
            "mimetype": "text/x-python",
            "name": "python",
            "nbconvert_exporter": "python",
            "pygments_lexer": "ipython3",
            "version": "3.10.6"
        }
    },
    "nbformat": 4,
    "nbformat_minor": 1
}